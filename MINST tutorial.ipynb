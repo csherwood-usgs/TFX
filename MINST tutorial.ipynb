{
 "cells": [
  {
   "cell_type": "code",
   "execution_count": 1,
   "metadata": {
    "ExecuteTime": {
     "end_time": "2017-09-19T23:53:06.984043Z",
     "start_time": "2017-09-19T23:53:04.260043Z"
    }
   },
   "outputs": [
    {
     "name": "stdout",
     "output_type": "stream",
     "text": [
      "W: [-0.9999969] b: [ 0.99999082] loss: 5.69997e-11\n"
     ]
    }
   ],
   "source": [
    "# from https://www.tensorflow.org/get_started/get_started\n",
    "import tensorflow as tf\n",
    "\n",
    "# Model parameters\n",
    "W = tf.Variable([.3], dtype=tf.float32)\n",
    "b = tf.Variable([-.3], dtype=tf.float32)\n",
    "# Model input and output\n",
    "x = tf.placeholder(tf.float32)\n",
    "linear_model = W * x + b\n",
    "y = tf.placeholder(tf.float32)\n",
    "\n",
    "# loss\n",
    "loss = tf.reduce_sum(tf.square(linear_model - y)) # sum of the squares\n",
    "# optimizer\n",
    "optimizer = tf.train.GradientDescentOptimizer(0.01)\n",
    "train = optimizer.minimize(loss)\n",
    "\n",
    "# training data\n",
    "x_train = [1, 2, 3, 4]\n",
    "y_train = [0, -1, -2, -3]\n",
    "# training loop\n",
    "init = tf.global_variables_initializer()\n",
    "sess = tf.Session()\n",
    "sess.run(init) # reset values to wrong\n",
    "for i in range(1000):\n",
    "  sess.run(train, {x: x_train, y: y_train})\n",
    "\n",
    "# evaluate training accuracy\n",
    "curr_W, curr_b, curr_loss = sess.run([W, b, loss], {x: x_train, y: y_train})\n",
    "print(\"W: %s b: %s loss: %s\"%(curr_W, curr_b, curr_loss))"
   ]
  },
  {
   "cell_type": "code",
   "execution_count": 2,
   "metadata": {
    "ExecuteTime": {
     "end_time": "2017-09-19T23:57:57.226043Z",
     "start_time": "2017-09-19T23:57:52.439043Z"
    }
   },
   "outputs": [
    {
     "name": "stdout",
     "output_type": "stream",
     "text": [
      "INFO:tensorflow:Using default config.\n",
      "WARNING:tensorflow:Using temporary folder as model directory: C:\\Users\\CSHERW~1\\AppData\\Local\\Temp\\1\\tmpe67nc1io\n",
      "INFO:tensorflow:Using config: {'_model_dir': 'C:\\\\Users\\\\CSHERW~1\\\\AppData\\\\Local\\\\Temp\\\\1\\\\tmpe67nc1io', '_tf_random_seed': 1, '_save_summary_steps': 100, '_save_checkpoints_secs': 600, '_save_checkpoints_steps': None, '_session_config': None, '_keep_checkpoint_max': 5, '_keep_checkpoint_every_n_hours': 10000, '_log_step_count_steps': 100}\n",
      "INFO:tensorflow:Create CheckpointSaverHook.\n",
      "INFO:tensorflow:Saving checkpoints for 1 into C:\\Users\\CSHERW~1\\AppData\\Local\\Temp\\1\\tmpe67nc1io\\model.ckpt.\n",
      "INFO:tensorflow:loss = 22.0, step = 1\n",
      "INFO:tensorflow:global_step/sec: 1234.57\n",
      "INFO:tensorflow:loss = 0.376696, step = 101 (0.084 sec)\n",
      "INFO:tensorflow:global_step/sec: 1333.34\n",
      "INFO:tensorflow:loss = 0.0888638, step = 201 (0.073 sec)\n",
      "INFO:tensorflow:global_step/sec: 1265.82\n",
      "INFO:tensorflow:loss = 0.0200248, step = 301 (0.080 sec)\n",
      "INFO:tensorflow:global_step/sec: 1219.51\n",
      "INFO:tensorflow:loss = 0.000932426, step = 401 (0.082 sec)\n",
      "INFO:tensorflow:global_step/sec: 1000\n",
      "INFO:tensorflow:loss = 0.00181649, step = 501 (0.100 sec)\n",
      "INFO:tensorflow:global_step/sec: 900.9\n",
      "INFO:tensorflow:loss = 0.000317088, step = 601 (0.114 sec)\n",
      "INFO:tensorflow:global_step/sec: 917.431\n",
      "INFO:tensorflow:loss = 0.000188546, step = 701 (0.106 sec)\n",
      "INFO:tensorflow:global_step/sec: 934.578\n",
      "INFO:tensorflow:loss = 5.882e-05, step = 801 (0.109 sec)\n",
      "INFO:tensorflow:global_step/sec: 1000\n",
      "INFO:tensorflow:loss = 1.17526e-05, step = 901 (0.099 sec)\n",
      "INFO:tensorflow:Saving checkpoints for 1000 into C:\\Users\\CSHERW~1\\AppData\\Local\\Temp\\1\\tmpe67nc1io\\model.ckpt.\n",
      "INFO:tensorflow:Loss for final step: 4.18648e-06.\n",
      "INFO:tensorflow:Starting evaluation at 2017-09-19-23:57:55\n",
      "INFO:tensorflow:Restoring parameters from C:\\Users\\CSHERW~1\\AppData\\Local\\Temp\\1\\tmpe67nc1io\\model.ckpt-1000\n",
      "INFO:tensorflow:Finished evaluation at 2017-09-19-23:57:56\n",
      "INFO:tensorflow:Saving dict for global step 1000: average_loss = 7.893e-07, global_step = 1000, loss = 3.1572e-06\n",
      "INFO:tensorflow:Starting evaluation at 2017-09-19-23:57:56\n",
      "INFO:tensorflow:Restoring parameters from C:\\Users\\CSHERW~1\\AppData\\Local\\Temp\\1\\tmpe67nc1io\\model.ckpt-1000\n",
      "INFO:tensorflow:Finished evaluation at 2017-09-19-23:57:57\n",
      "INFO:tensorflow:Saving dict for global step 1000: average_loss = 0.00261045, global_step = 1000, loss = 0.0104418\n",
      "train metrics: {'average_loss': 7.8930037e-07, 'loss': 3.1572015e-06, 'global_step': 1000}\n",
      "eval metrics: {'average_loss': 0.0026104497, 'loss': 0.010441799, 'global_step': 1000}\n"
     ]
    }
   ],
   "source": [
    "import tensorflow as tf\n",
    "# NumPy is often used to load, manipulate and preprocess data.\n",
    "import numpy as np\n",
    "\n",
    "# Declare list of features. We only have one numeric feature. There are many\n",
    "# other types of columns that are more complicated and useful.\n",
    "feature_columns = [tf.feature_column.numeric_column(\"x\", shape=[1])]\n",
    "\n",
    "# An estimator is the front end to invoke training (fitting) and evaluation\n",
    "# (inference). There are many predefined types like linear regression,\n",
    "# linear classification, and many neural network classifiers and regressors.\n",
    "# The following code provides an estimator that does linear regression.\n",
    "estimator = tf.estimator.LinearRegressor(feature_columns=feature_columns)\n",
    "\n",
    "# TensorFlow provides many helper methods to read and set up data sets.\n",
    "# Here we use two data sets: one for training and one for evaluation\n",
    "# We have to tell the function how many batches\n",
    "# of data (num_epochs) we want and how big each batch should be.\n",
    "x_train = np.array([1., 2., 3., 4.])\n",
    "y_train = np.array([0., -1., -2., -3.])\n",
    "x_eval = np.array([2., 5., 8., 1.])\n",
    "y_eval = np.array([-1.01, -4.1, -7, 0.])\n",
    "input_fn = tf.estimator.inputs.numpy_input_fn(\n",
    "    {\"x\": x_train}, y_train, batch_size=4, num_epochs=None, shuffle=True)\n",
    "train_input_fn = tf.estimator.inputs.numpy_input_fn(\n",
    "    {\"x\": x_train}, y_train, batch_size=4, num_epochs=1000, shuffle=False)\n",
    "eval_input_fn = tf.estimator.inputs.numpy_input_fn(\n",
    "    {\"x\": x_eval}, y_eval, batch_size=4, num_epochs=1000, shuffle=False)\n",
    "\n",
    "# We can invoke 1000 training steps by invoking the  method and passing the\n",
    "# training data set.\n",
    "estimator.train(input_fn=input_fn, steps=1000)\n",
    "\n",
    "# Here we evaluate how well our model did.\n",
    "train_metrics = estimator.evaluate(input_fn=train_input_fn)\n",
    "eval_metrics = estimator.evaluate(input_fn=eval_input_fn)\n",
    "print(\"train metrics: %r\"% train_metrics)\n",
    "print(\"eval metrics: %r\"% eval_metrics)"
   ]
  },
  {
   "cell_type": "code",
   "execution_count": 3,
   "metadata": {
    "ExecuteTime": {
     "end_time": "2017-09-20T00:08:05.735043Z",
     "start_time": "2017-09-20T00:07:51.813043Z"
    }
   },
   "outputs": [
    {
     "name": "stdout",
     "output_type": "stream",
     "text": [
      "Successfully downloaded train-images-idx3-ubyte.gz 9912422 bytes.\n",
      "Extracting MNIST_data/train-images-idx3-ubyte.gz\n",
      "Successfully downloaded train-labels-idx1-ubyte.gz 28881 bytes.\n",
      "Extracting MNIST_data/train-labels-idx1-ubyte.gz\n",
      "Successfully downloaded t10k-images-idx3-ubyte.gz 1648877 bytes.\n",
      "Extracting MNIST_data/t10k-images-idx3-ubyte.gz\n",
      "Successfully downloaded t10k-labels-idx1-ubyte.gz 4542 bytes.\n",
      "Extracting MNIST_data/t10k-labels-idx1-ubyte.gz\n"
     ]
    }
   ],
   "source": [
    "from tensorflow.examples.tutorials.mnist import input_data\n",
    "mnist = input_data.read_data_sets(\"MNIST_data/\", one_hot=True)"
   ]
  },
  {
   "cell_type": "code",
   "execution_count": null,
   "metadata": {
    "collapsed": true
   },
   "outputs": [],
   "source": []
  }
 ],
 "metadata": {
  "kernelspec": {
   "display_name": "Python [conda env:TF3]",
   "language": "python",
   "name": "conda-env-TF3-py"
  },
  "language_info": {
   "codemirror_mode": {
    "name": "ipython",
    "version": 3
   },
   "file_extension": ".py",
   "mimetype": "text/x-python",
   "name": "python",
   "nbconvert_exporter": "python",
   "pygments_lexer": "ipython3",
   "version": "3.6.2"
  }
 },
 "nbformat": 4,
 "nbformat_minor": 2
}
